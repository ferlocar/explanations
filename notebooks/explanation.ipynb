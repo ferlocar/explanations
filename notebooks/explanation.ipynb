{
 "cells": [
  {
   "cell_type": "code",
   "execution_count": 13,
   "metadata": {},
   "outputs": [],
   "source": [
    "import csv\n",
    "import numpy as np\n",
    "import pandas as pd\n",
    "# from sklearn.linear_model import LogisticRegression\n",
    "from sklearn.ensemble import RandomForestClassifier\n",
    "from sklearn.linear_model import LogisticRegression\n",
    "import pickle\n",
    "import sys\n",
    "sys.path.insert(0, r'/Users/xintianhan/Downloads/explanation/')\n",
    "from explanations.explainer_new import Explainer\n"
   ]
  },
  {
   "cell_type": "markdown",
   "metadata": {},
   "source": [
    "# get explanations"
   ]
  },
  {
   "cell_type": "code",
   "execution_count": 17,
   "metadata": {},
   "outputs": [],
   "source": [
    "def export_explanations(explanations, labels, scores, features):\n",
    "    with open('../files/explanations_avg.csv', 'w', newline='') as export_file:\n",
    "        writer = csv.writer(export_file)\n",
    "        writer.writerow([\"Observation\", \"Label\", \"Prediction\", \"Explanation\"])\n",
    "        for i_e, e_list in enumerate(explanations):\n",
    "            if len(e_list) > 0:\n",
    "                for explanation in e_list:\n",
    "                    row = [i_e, labels[i_e], scores[i_e]] + list(features[explanation])\n",
    "                    writer.writerow(row)\n",
    "            else:\n",
    "                row = [i_e, labels[i_e], scores[i_e], \"No Explanation\"]\n",
    "                writer.writerow(row)\n",
    "\n",
    "\n",
    "def main():\n",
    "    X_train, y_train, X_test, y_test = pickle.load( open( \"../Data/LC_data.pickle\", \"rb\" ) )\n",
    "    feature_types = pickle.load(open(\"../Data/feature_types.pickle\", \"rb\"))\n",
    "    feature_types = np.array(feature_types)\n",
    "    features = pickle.load(open(\"../Data/features.pickle\", \"rb\"))\n",
    "#     input_file = \"files/readyToGo.csv\"\n",
    "    data_file = \"files/cache/data.pkl\"\n",
    "#     labels_file = \"files/cache/labels.pkl\"\n",
    "#     features_file = \"files/cache/features.pkl\"\n",
    "    model_file = \"../files/cache/model.pkl\"\n",
    "#     try:\n",
    "#         data = pickle.load(open(data_file, \"rb\"))\n",
    "#         labels = pickle.load(open(labels_file, \"rb\"))\n",
    "#         features = pickle.load(open(features_file, \"rb\"))\n",
    "#     except IOError:\n",
    "#         data, labels, features = read_csv(input_file)\n",
    "#         pickle.dump(data, open(data_file, \"wb\"))\n",
    "#         pickle.dump(labels, open(labels_file, \"wb\"))\n",
    "#         pickle.dump(features, open(features_file, \"wb\"))\n",
    "    data = X_train\n",
    "    labels = y_train\n",
    "    features = np.array(features)\n",
    "    try:\n",
    "        model = pickle.load(open(model_file, \"rb\"))\n",
    "    except IOError:\n",
    "        print(\"Start fit\")\n",
    "        # model = LogisticRegression()\n",
    "        model = LogisticRegression(penalty = 'l1', C = 4.641588833612778)\n",
    "        model.fit(data, labels)\n",
    "        print(\"Finish fitting\")\n",
    "        pickle.dump(model, open(model_file, \"wb\"))\n",
    "    top_obs = 1000\n",
    "    data = data[:top_obs, :]\n",
    "    labels = labels[:top_obs]\n",
    "    explainer = Explainer(model.predict_proba, 0.5134914215280924)\n",
    "    max_ite = 200\n",
    "    explanations = explainer.explain(data, feature_types, max_ite)\n",
    "    scores = model.predict_proba(data)[:, 1]\n",
    "    export_explanations(explanations, labels, scores, features)\n",
    "\n",
    "\n",
    "main()"
   ]
  },
  {
   "cell_type": "code",
   "execution_count": null,
   "metadata": {},
   "outputs": [],
   "source": []
  }
 ],
 "metadata": {
  "kernelspec": {
   "display_name": "Python 3",
   "language": "python",
   "name": "python3"
  },
  "language_info": {
   "codemirror_mode": {
    "name": "ipython",
    "version": 3
   },
   "file_extension": ".py",
   "mimetype": "text/x-python",
   "name": "python",
   "nbconvert_exporter": "python",
   "pygments_lexer": "ipython3",
   "version": "3.6.4"
  }
 },
 "nbformat": 4,
 "nbformat_minor": 2
}
