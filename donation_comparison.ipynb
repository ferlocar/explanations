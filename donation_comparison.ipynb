{
 "cells": [
  {
   "cell_type": "code",
   "execution_count": 26,
   "metadata": {},
   "outputs": [],
   "source": [
    "import pandas as pd\n",
    "import numpy as np\n",
    "import scipy as sp\n",
    "import xgboost as xgb\n",
    "import explainer\n",
    "from sklearn.metrics import recall_score, precision_score, roc_auc_score"
   ]
  },
  {
   "cell_type": "code",
   "execution_count": 2,
   "metadata": {},
   "outputs": [
    {
     "name": "stderr",
     "output_type": "stream",
     "text": [
      "/anaconda/lib/python3.6/site-packages/IPython/core/interactiveshell.py:2717: DtypeWarning: Columns (8) have mixed types. Specify dtype option on import or set low_memory=False.\n",
      "  interactivity=interactivity, compiler=compiler, result=result)\n"
     ]
    }
   ],
   "source": [
    "# read the data\n",
    "# The \"validation\" set plays the role of the test in the competition\n",
    "# We keep their name validation here\n",
    "'''\n",
    "Replace the path here with your data path!\n",
    "'''\n",
    "path = '../../Downloads/donation_data/'\n",
    "train = pd.read_csv(path+'cup98LRN.txt')\n",
    "val = pd.read_csv(path+'cup98val.txt')\n",
    "val_label = pd.read_csv(path+'valtargt.txt')"
   ]
  },
  {
   "cell_type": "code",
   "execution_count": 3,
   "metadata": {},
   "outputs": [
    {
     "data": {
      "text/html": [
       "<div>\n",
       "<style>\n",
       "    .dataframe thead tr:only-child th {\n",
       "        text-align: right;\n",
       "    }\n",
       "\n",
       "    .dataframe thead th {\n",
       "        text-align: left;\n",
       "    }\n",
       "\n",
       "    .dataframe tbody tr th {\n",
       "        vertical-align: top;\n",
       "    }\n",
       "</style>\n",
       "<table border=\"1\" class=\"dataframe\">\n",
       "  <thead>\n",
       "    <tr style=\"text-align: right;\">\n",
       "      <th></th>\n",
       "      <th>ODATEDW</th>\n",
       "      <th>OSOURCE</th>\n",
       "      <th>TCODE</th>\n",
       "      <th>STATE</th>\n",
       "      <th>ZIP</th>\n",
       "      <th>MAILCODE</th>\n",
       "      <th>PVASTATE</th>\n",
       "      <th>DOB</th>\n",
       "      <th>NOEXCH</th>\n",
       "      <th>RECINHSE</th>\n",
       "      <th>...</th>\n",
       "      <th>TARGET_D</th>\n",
       "      <th>HPHONE_D</th>\n",
       "      <th>RFA_2R</th>\n",
       "      <th>RFA_2F</th>\n",
       "      <th>RFA_2A</th>\n",
       "      <th>MDMAUD_R</th>\n",
       "      <th>MDMAUD_F</th>\n",
       "      <th>MDMAUD_A</th>\n",
       "      <th>CLUSTER2</th>\n",
       "      <th>GEOCODE2</th>\n",
       "    </tr>\n",
       "  </thead>\n",
       "  <tbody>\n",
       "    <tr>\n",
       "      <th>0</th>\n",
       "      <td>8901</td>\n",
       "      <td>GRI</td>\n",
       "      <td>0</td>\n",
       "      <td>IL</td>\n",
       "      <td>61081</td>\n",
       "      <td></td>\n",
       "      <td></td>\n",
       "      <td>3712</td>\n",
       "      <td>0</td>\n",
       "      <td></td>\n",
       "      <td>...</td>\n",
       "      <td>0.0</td>\n",
       "      <td>0</td>\n",
       "      <td>L</td>\n",
       "      <td>4</td>\n",
       "      <td>E</td>\n",
       "      <td>X</td>\n",
       "      <td>X</td>\n",
       "      <td>X</td>\n",
       "      <td>39.0</td>\n",
       "      <td>C</td>\n",
       "    </tr>\n",
       "    <tr>\n",
       "      <th>1</th>\n",
       "      <td>9401</td>\n",
       "      <td>BOA</td>\n",
       "      <td>1</td>\n",
       "      <td>CA</td>\n",
       "      <td>91326</td>\n",
       "      <td></td>\n",
       "      <td></td>\n",
       "      <td>5202</td>\n",
       "      <td>0</td>\n",
       "      <td></td>\n",
       "      <td>...</td>\n",
       "      <td>0.0</td>\n",
       "      <td>0</td>\n",
       "      <td>L</td>\n",
       "      <td>2</td>\n",
       "      <td>G</td>\n",
       "      <td>X</td>\n",
       "      <td>X</td>\n",
       "      <td>X</td>\n",
       "      <td>1.0</td>\n",
       "      <td>A</td>\n",
       "    </tr>\n",
       "    <tr>\n",
       "      <th>2</th>\n",
       "      <td>9001</td>\n",
       "      <td>AMH</td>\n",
       "      <td>1</td>\n",
       "      <td>NC</td>\n",
       "      <td>27017</td>\n",
       "      <td></td>\n",
       "      <td></td>\n",
       "      <td>0</td>\n",
       "      <td>0</td>\n",
       "      <td></td>\n",
       "      <td>...</td>\n",
       "      <td>0.0</td>\n",
       "      <td>1</td>\n",
       "      <td>L</td>\n",
       "      <td>4</td>\n",
       "      <td>E</td>\n",
       "      <td>X</td>\n",
       "      <td>X</td>\n",
       "      <td>X</td>\n",
       "      <td>60.0</td>\n",
       "      <td>C</td>\n",
       "    </tr>\n",
       "    <tr>\n",
       "      <th>3</th>\n",
       "      <td>8701</td>\n",
       "      <td>BRY</td>\n",
       "      <td>0</td>\n",
       "      <td>CA</td>\n",
       "      <td>95953</td>\n",
       "      <td></td>\n",
       "      <td></td>\n",
       "      <td>2801</td>\n",
       "      <td>0</td>\n",
       "      <td></td>\n",
       "      <td>...</td>\n",
       "      <td>0.0</td>\n",
       "      <td>1</td>\n",
       "      <td>L</td>\n",
       "      <td>4</td>\n",
       "      <td>E</td>\n",
       "      <td>X</td>\n",
       "      <td>X</td>\n",
       "      <td>X</td>\n",
       "      <td>41.0</td>\n",
       "      <td>C</td>\n",
       "    </tr>\n",
       "    <tr>\n",
       "      <th>4</th>\n",
       "      <td>8601</td>\n",
       "      <td></td>\n",
       "      <td>0</td>\n",
       "      <td>FL</td>\n",
       "      <td>33176</td>\n",
       "      <td></td>\n",
       "      <td></td>\n",
       "      <td>2001</td>\n",
       "      <td>0</td>\n",
       "      <td>X</td>\n",
       "      <td>...</td>\n",
       "      <td>0.0</td>\n",
       "      <td>1</td>\n",
       "      <td>L</td>\n",
       "      <td>2</td>\n",
       "      <td>F</td>\n",
       "      <td>X</td>\n",
       "      <td>X</td>\n",
       "      <td>X</td>\n",
       "      <td>26.0</td>\n",
       "      <td>A</td>\n",
       "    </tr>\n",
       "  </tbody>\n",
       "</table>\n",
       "<p>5 rows × 481 columns</p>\n",
       "</div>"
      ],
      "text/plain": [
       "   ODATEDW OSOURCE  TCODE STATE    ZIP MAILCODE PVASTATE   DOB NOEXCH  \\\n",
       "0     8901     GRI      0    IL  61081                    3712      0   \n",
       "1     9401     BOA      1    CA  91326                    5202      0   \n",
       "2     9001     AMH      1    NC  27017                       0      0   \n",
       "3     8701     BRY      0    CA  95953                    2801      0   \n",
       "4     8601              0    FL  33176                    2001      0   \n",
       "\n",
       "  RECINHSE   ...    TARGET_D HPHONE_D RFA_2R RFA_2F RFA_2A MDMAUD_R  MDMAUD_F  \\\n",
       "0            ...         0.0        0      L      4      E        X         X   \n",
       "1            ...         0.0        0      L      2      G        X         X   \n",
       "2            ...         0.0        1      L      4      E        X         X   \n",
       "3            ...         0.0        1      L      4      E        X         X   \n",
       "4        X   ...         0.0        1      L      2      F        X         X   \n",
       "\n",
       "  MDMAUD_A CLUSTER2 GEOCODE2  \n",
       "0        X     39.0        C  \n",
       "1        X      1.0        A  \n",
       "2        X     60.0        C  \n",
       "3        X     41.0        C  \n",
       "4        X     26.0        A  \n",
       "\n",
       "[5 rows x 481 columns]"
      ]
     },
     "execution_count": 3,
     "metadata": {},
     "output_type": "execute_result"
    }
   ],
   "source": [
    "train.head()"
   ]
  },
  {
   "cell_type": "code",
   "execution_count": 4,
   "metadata": {},
   "outputs": [],
   "source": [
    "# merge the label for the validation\n",
    "val = val.merge(val_label, on='CONTROLN')"
   ]
  },
  {
   "cell_type": "code",
   "execution_count": 5,
   "metadata": {},
   "outputs": [],
   "source": [
    "#Unfinished\n",
    "clf_train = train[[\"AGE\", \"WEALTH2\",  \"HIT\", \"MALEMILI\",\n",
    "         \"MALEVET\", \"VIETVETS\", \"WWIIVETS\", \"LOCALGOV\", \"STATEGOV\", \"FEDGOV\", \n",
    "         \"ETH7\", \"ETH10\", \"ETH11\", \"AFC1\", \"AFC2\", \"AFC3\", \"AFC4\", \"AFC5\", \"AFC6\",\n",
    "         \"VC1\", \"VC2\", \"VC3\", \"VC4\", \"NUMPRM12\", \"CARDGIFT\", \"TIMELAG\", \"AVGGIFT\", \"LASTGIFT\"]]\n",
    "reg_train = clf_train[train['TARGET_B']==1]\n",
    "val = val[[\"AGE\",  \"WEALTH2\",  \"HIT\", \"MALEMILI\",\n",
    "         \"MALEVET\", \"VIETVETS\", \"WWIIVETS\", \"LOCALGOV\", \"STATEGOV\", \"FEDGOV\",  \n",
    "         \"ETH7\", \"ETH10\", \"ETH11\", \"AFC1\", \"AFC2\", \"AFC3\", \"AFC4\", \"AFC5\", \"AFC6\",\n",
    "         \"VC1\", \"VC2\", \"VC3\", \"VC4\", \"NUMPRM12\", \"CARDGIFT\", \"TIMELAG\", \"AVGGIFT\", \"LASTGIFT\"]]\n",
    "train_b = train['TARGET_B']\n",
    "train_d = train['TARGET_D'][train['TARGET_B']==1]\n",
    "# val_b = val['TARGET_B']\n",
    "# val_d = val['TARGET_D']"
   ]
  },
  {
   "cell_type": "code",
   "execution_count": 6,
   "metadata": {},
   "outputs": [
    {
     "name": "stdout",
     "output_type": "stream",
     "text": [
      "4843\n",
      "95412\n",
      "95412\n",
      "4843\n"
     ]
    }
   ],
   "source": [
    "print(len(reg_train))\n",
    "print(len(clf_train))\n",
    "print(len(train_b))\n",
    "print(len(train_d))"
   ]
  },
  {
   "cell_type": "code",
   "execution_count": 20,
   "metadata": {},
   "outputs": [
    {
     "data": {
      "text/plain": [
       "0    0\n",
       "1    0\n",
       "2    0\n",
       "3    0\n",
       "4    0\n",
       "Name: TARGET_B, dtype: int64"
      ]
     },
     "execution_count": 20,
     "metadata": {},
     "output_type": "execute_result"
    }
   ],
   "source": [
    "train_b.head()"
   ]
  },
  {
   "cell_type": "code",
   "execution_count": 7,
   "metadata": {},
   "outputs": [
    {
     "data": {
      "text/plain": [
       "0.05075881440489666"
      ]
     },
     "execution_count": 7,
     "metadata": {},
     "output_type": "execute_result"
    }
   ],
   "source": [
    "# unbalanced dataset\n",
    "sum(train_b)/len(train_b)"
   ]
  },
  {
   "cell_type": "markdown",
   "metadata": {},
   "source": [
    "# Training"
   ]
  },
  {
   "cell_type": "code",
   "execution_count": 31,
   "metadata": {},
   "outputs": [
    {
     "data": {
      "text/plain": [
       "XGBClassifier(base_score=0.5, booster='gbtree', colsample_bylevel=1,\n",
       "       colsample_bytree=1, gamma=0, learning_rate=0.1, max_delta_step=0,\n",
       "       max_depth=3, min_child_weight=1, missing=None, n_estimators=100,\n",
       "       n_jobs=1, nthread=None, objective='binary:logistic', random_state=0,\n",
       "       reg_alpha=0, reg_lambda=1, scale_pos_weight=1, seed=None,\n",
       "       silent=True, subsample=1)"
      ]
     },
     "execution_count": 31,
     "metadata": {},
     "output_type": "execute_result"
    }
   ],
   "source": [
    "# For classification and regression, we use xgboost \n",
    "gclf = xgb.XGBClassifier()\n",
    "gclf.fit(clf_train.values, train_b.values)"
   ]
  },
  {
   "cell_type": "code",
   "execution_count": 39,
   "metadata": {},
   "outputs": [
    {
     "name": "stderr",
     "output_type": "stream",
     "text": [
      "/anaconda/lib/python3.6/site-packages/sklearn/metrics/classification.py:1143: UndefinedMetricWarning: Precision is ill-defined and being set to 0.0 due to no predicted samples.\n",
      "  'precision', 'predicted', average, warn_for)\n"
     ]
    },
    {
     "data": {
      "text/plain": [
       "0.0"
      ]
     },
     "execution_count": 39,
     "metadata": {},
     "output_type": "execute_result"
    }
   ],
   "source": [
    "prob = gclf.predict_proba(clf_train)[:,1]\n",
    "roc_auc_score(train_b, prob)\n",
    "recall_score(val_b, gclf.predict(val))\n",
    "precision_score(val_b, gclf.predict(val))"
   ]
  },
  {
   "cell_type": "code",
   "execution_count": 51,
   "metadata": {},
   "outputs": [
    {
     "data": {
      "text/plain": [
       "0.09054996147751808"
      ]
     },
     "execution_count": 51,
     "metadata": {},
     "output_type": "execute_result"
    }
   ],
   "source": [
    "np.percentile(gclf.predict_proba(val.values)[:,1], 95)"
   ]
  },
  {
   "cell_type": "code",
   "execution_count": 35,
   "metadata": {},
   "outputs": [
    {
     "data": {
      "text/plain": [
       "XGBRegressor(base_score=0.5, booster='gbtree', colsample_bylevel=1,\n",
       "       colsample_bytree=1, gamma=0, importance_type='gain',\n",
       "       learning_rate=0.1, max_delta_step=0, max_depth=3,\n",
       "       min_child_weight=1, missing=None, n_estimators=100, n_jobs=1,\n",
       "       nthread=None, objective='reg:linear', random_state=0, reg_alpha=0,\n",
       "       reg_lambda=1, scale_pos_weight=1, seed=None, silent=True,\n",
       "       subsample=1)"
      ]
     },
     "execution_count": 35,
     "metadata": {},
     "output_type": "execute_result"
    }
   ],
   "source": [
    "# Regressor\n",
    "greg = xgb.XGBRegressor()\n",
    "greg.fit(reg_train.values, train_d.values)"
   ]
  },
  {
   "cell_type": "code",
   "execution_count": 49,
   "metadata": {},
   "outputs": [
    {
     "data": {
      "text/plain": [
       "33.39040260314941"
      ]
     },
     "execution_count": 49,
     "metadata": {},
     "output_type": "execute_result"
    }
   ],
   "source": [
    "np.percentile(greg.predict(val.values),95)"
   ]
  },
  {
   "cell_type": "markdown",
   "metadata": {},
   "source": [
    "# Explain classification"
   ]
  },
  {
   "cell_type": "code",
   "execution_count": 56,
   "metadata": {},
   "outputs": [
    {
     "data": {
      "text/plain": [
       "1.3688489794731138"
      ]
     },
     "execution_count": 56,
     "metadata": {},
     "output_type": "execute_result"
    }
   ],
   "source": [
    "np.percentile(gclf.predict_proba(val.values)[:,1]*greg.predict(val.values),95)"
   ]
  },
  {
   "cell_type": "code",
   "execution_count": 22,
   "metadata": {},
   "outputs": [],
   "source": [
    "default = val.mean()"
   ]
  },
  {
   "cell_type": "code",
   "execution_count": 24,
   "metadata": {},
   "outputs": [],
   "source": [
    "def scoring_function(data):\n",
    "    return gclf.predict_proba(data)[:, 1]"
   ]
  },
  {
   "cell_type": "code",
   "execution_count": 57,
   "metadata": {},
   "outputs": [],
   "source": [
    "# Difference between individual explanations and joint explanations\n",
    "threshold1 = 0.0905\n",
    "probs = gclf.predict_proba(val.values)[:,1]\n",
    "target1 = threshold1 < probs\n",
    "threshold2 = 33.390\n",
    "values = greg.predict(val.values)\n",
    "target2 = threshold2 < values\n",
    "exps = gclf.predict_proba(val.values)[:,1]*greg.predict(val.values)\n",
    "threshold3 = 1.368\n",
    "target3 = threshold3 < exps\n",
    "target = target1 & target2 & target3\n",
    "sample_c = val.values[target]"
   ]
  },
  {
   "cell_type": "code",
   "execution_count": 59,
   "metadata": {},
   "outputs": [
    {
     "data": {
      "text/plain": [
       "21"
      ]
     },
     "execution_count": 59,
     "metadata": {},
     "output_type": "execute_result"
    }
   ],
   "source": [
    "len(sample_c)"
   ]
  },
  {
   "cell_type": "code",
   "execution_count": 60,
   "metadata": {},
   "outputs": [],
   "source": [
    "# Explain classification\n",
    "def scoring_function(data):\n",
    "    return gclf.predict_proba(data)[:, 1]\n",
    "explain1 = explainer.Explainer(scoring_function, default, prune=False)\n",
    "explanations1 = explain1.explain(sample_c, thresholds=threshold1)"
   ]
  },
  {
   "cell_type": "code",
   "execution_count": 61,
   "metadata": {},
   "outputs": [],
   "source": [
    "# Explain regression\n",
    "def scoring_function(data):\n",
    "    return greg.predict(data)\n",
    "explain2 = explainer.Explainer(scoring_function, default, prune=False)\n",
    "explanations2 = explain2.explain(sample_c, thresholds=threshold2)"
   ]
  },
  {
   "cell_type": "code",
   "execution_count": 62,
   "metadata": {},
   "outputs": [],
   "source": [
    "# Explain expectation\n",
    "def scoring_function(data):\n",
    "    return greg.predict(data)*gclf.predict_proba(data)[:, 1]\n",
    "explain3 = explainer.Explainer(scoring_function, default, prune=False)\n",
    "explanations3 = explain3.explain(sample_c, thresholds=threshold3)"
   ]
  },
  {
   "cell_type": "code",
   "execution_count": 93,
   "metadata": {},
   "outputs": [
    {
     "name": "stdout",
     "output_type": "stream",
     "text": [
      "\\begin{tabular}{SSSSSS}\n",
      "\\toprule\n",
      "{Explanations $\\rightarrow$}&{1}&{2}&{3}&{4}&{5}\\\\\n",
      "\\midrule\n",
      "{WWIIVETS}&&&{$\\uparrow$}&&\\\\\n",
      "{VC1}&&&&{$\\downarrow$}&\\\\\n",
      "{VC3}&{$\\uparrow$}&&&&\\\\\n",
      "{NUMPRM12}&&{$\\uparrow$}&&&\\\\\n",
      "{CARDGIFT}&&&&&{$\\uparrow$}\\\\\n",
      "\\midrule\n",
      "\\multicolumn{6}{l}{$\\uparrow$ means feature is too large to grant credit.} \\\\\n",
      "\\multicolumn{6}{l}{$\\downarrow$ means feature is too small to grant credit.} \\\\\n",
      "\\bottomrule\n",
      "\\end{tabular}\n"
     ]
    }
   ],
   "source": [
    "# Get LaTex table 1\n",
    "continuous_features = [\"AGE\",  \"WEALTH2\",  \"HIT\", \"MALEMILI\",\n",
    "         \"MALEVET\", \"VIETVETS\", \"WWIIVETS\", \"LOCALGOV\", \"STATEGOV\", \"FEDGOV\",  \n",
    "         \"ETH7\", \"ETH10\", \"ETH11\", \"AFC1\", \"AFC2\", \"AFC3\", \"AFC4\", \"AFC5\", \"AFC6\",\n",
    "         \"VC1\", \"VC2\", \"VC3\", \"VC4\", \"NUMPRM12\", \"CARDGIFT\", \"TIMELAG\", \"AVGGIFT\", \"LASTGIFT\"]\n",
    "ix = 0\n",
    "ix_explanations = explanations1[ix]\n",
    "print(\"\\\\begin{{tabular}}{{{0}}}\".format(\"S\"*(1+len(ix_explanations))))\n",
    "print(\"\\\\toprule\")\n",
    "print('&'.join([\"{Explanations $\\\\rightarrow$}\"]+ [\"{{{0}}}\".format(i+ 1) for i in range(len(ix_explanations))]) + \"\\\\\\\\\")\n",
    "print(\"\\\\midrule\")\n",
    "features = np.unique(np.array([item for sublist in ix_explanations for item in sublist]))\n",
    "for f in features:\n",
    "    line = [\"{{{0}}}\".format(continuous_features[f].replace('_', '\\_'))]\n",
    "    for e in ix_explanations:\n",
    "        if f in e:\n",
    "            is_high = default[f] < sample_c[ix, f]\n",
    "            change_needed = \"{$\\\\uparrow$}\" if is_high else \"{$\\\\downarrow$}\"\n",
    "            line += [change_needed]\n",
    "        else:\n",
    "            line += [\"\"]\n",
    "    print(\"&\".join(line) + \"\\\\\\\\\")\n",
    "print(\"\\\\midrule\") \n",
    "print(\"\\\\multicolumn{6}{l}{$\\\\uparrow$ means feature is too large to grant credit.} \\\\\\\\\")    \n",
    "print(\"\\\\multicolumn{6}{l}{$\\\\downarrow$ means feature is too small to grant credit.} \\\\\\\\\")\n",
    "print(\"\\\\bottomrule\")    \n",
    "print(\"\\\\end{tabular}\")"
   ]
  },
  {
   "cell_type": "code",
   "execution_count": 82,
   "metadata": {},
   "outputs": [
    {
     "name": "stdout",
     "output_type": "stream",
     "text": [
      "\\begin{tabular}{SSSSSSS}\n",
      "\\toprule\n",
      "{Explanations $\\rightarrow$}&{1}&{2}&{3}&{4}&{5}&{6}\\\\\n",
      "\\midrule\n",
      "{AGE}&&&&{$\\downarrow$}&&\\\\\n",
      "{STATEGOV}&&&&&{$\\downarrow$}&\\\\\n",
      "{AFC5}&&&{$\\uparrow$}&&&\\\\\n",
      "{VC3}&&&&&&{$\\uparrow$}\\\\\n",
      "{NUMPRM12}&&{$\\uparrow$}&&&&\\\\\n",
      "{AVGGIFT}&{$\\uparrow$}&&&&&\\\\\n",
      "{LASTGIFT}&{$\\uparrow$}&{$\\uparrow$}&{$\\uparrow$}&{$\\uparrow$}&{$\\uparrow$}&{$\\uparrow$}\\\\\n",
      "\\midrule\n",
      "\\multicolumn{7}{l}{$\\uparrow$ means feature is too large to grant credit.} \\\\\n",
      "\\multicolumn{7}{l}{$\\downarrow$ means feature is too small to grant credit.} \\\\\n",
      "\\bottomrule\n",
      "\\end{tabular}\n"
     ]
    }
   ],
   "source": [
    "# Get LaTex table 2\n",
    "continuous_features = [\"AGE\",  \"WEALTH2\",  \"HIT\", \"MALEMILI\",\n",
    "         \"MALEVET\", \"VIETVETS\", \"WWIIVETS\", \"LOCALGOV\", \"STATEGOV\", \"FEDGOV\",  \n",
    "         \"ETH7\", \"ETH10\", \"ETH11\", \"AFC1\", \"AFC2\", \"AFC3\", \"AFC4\", \"AFC5\", \"AFC6\",\n",
    "         \"VC1\", \"VC2\", \"VC3\", \"VC4\", \"NUMPRM12\", \"CARDGIFT\", \"TIMELAG\", \"AVGGIFT\", \"LASTGIFT\"]\n",
    "ix = 0\n",
    "ix_explanations = explanations2[ix]\n",
    "print(\"\\\\begin{{tabular}}{{{0}}}\".format(\"S\"*(1+len(ix_explanations))))\n",
    "print(\"\\\\toprule\")\n",
    "print('&'.join([\"{Explanations $\\\\rightarrow$}\"]+ [\"{{{0}}}\".format(i+ 1) for i in range(len(ix_explanations))]) + \"\\\\\\\\\")\n",
    "print(\"\\\\midrule\")\n",
    "features = np.unique(np.array([item for sublist in ix_explanations for item in sublist]))\n",
    "for f in features:\n",
    "    line = [\"{{{0}}}\".format(continuous_features[f].replace('_', '\\_'))]\n",
    "    for e in ix_explanations:\n",
    "        if f in e:\n",
    "            is_high = default[f] < sample_c[ix, f]\n",
    "            change_needed = \"{$\\\\uparrow$}\" if is_high else \"{$\\\\downarrow$}\"\n",
    "            line += [change_needed]\n",
    "        else:\n",
    "            line += [\"\"]\n",
    "    print(\"&\".join(line) + \"\\\\\\\\\")\n",
    "print(\"\\\\midrule\") \n",
    "print(\"\\\\multicolumn{7}{l}{$\\\\uparrow$ means feature is too large to grant credit.} \\\\\\\\\")    \n",
    "print(\"\\\\multicolumn{7}{l}{$\\\\downarrow$ means feature is too small to grant credit.} \\\\\\\\\")\n",
    "print(\"\\\\bottomrule\")    \n",
    "print(\"\\\\end{tabular}\")"
   ]
  },
  {
   "cell_type": "code",
   "execution_count": 83,
   "metadata": {},
   "outputs": [
    {
     "name": "stdout",
     "output_type": "stream",
     "text": [
      "\\begin{tabular}{SSSSSS}\n",
      "\\toprule\n",
      "{Explanations $\\rightarrow$}&{1}&{2}&{3}&{4}&{5}\\\\\n",
      "\\midrule\n",
      "{AGE}&{$\\downarrow$}&&&&\\\\\n",
      "{WWIIVETS}&{$\\uparrow$}&{$\\uparrow$}&{$\\uparrow$}&{$\\uparrow$}&{$\\uparrow$}\\\\\n",
      "{AFC4}&&&&&{$\\uparrow$}\\\\\n",
      "{VC1}&&&&&{$\\downarrow$}\\\\\n",
      "{VC3}&&&{$\\uparrow$}&&\\\\\n",
      "{NUMPRM12}&&{$\\uparrow$}&&&\\\\\n",
      "{CARDGIFT}&&&&{$\\uparrow$}&\\\\\n",
      "{AVGGIFT}&{$\\uparrow$}&{$\\uparrow$}&{$\\uparrow$}&{$\\uparrow$}&{$\\uparrow$}\\\\\n",
      "{LASTGIFT}&{$\\uparrow$}&{$\\uparrow$}&{$\\uparrow$}&{$\\uparrow$}&{$\\uparrow$}\\\\\n",
      "\\midrule\n",
      "\\multicolumn{7}{l}{$\\uparrow$ means feature is too large to grant credit.} \\\\\n",
      "\\multicolumn{7}{l}{$\\downarrow$ means feature is too small to grant credit.} \\\\\n",
      "\\bottomrule\n",
      "\\end{tabular}\n"
     ]
    }
   ],
   "source": [
    "# Get LaTex table 3\n",
    "continuous_features = [\"AGE\",  \"WEALTH2\",  \"HIT\", \"MALEMILI\",\n",
    "         \"MALEVET\", \"VIETVETS\", \"WWIIVETS\", \"LOCALGOV\", \"STATEGOV\", \"FEDGOV\",  \n",
    "         \"ETH7\", \"ETH10\", \"ETH11\", \"AFC1\", \"AFC2\", \"AFC3\", \"AFC4\", \"AFC5\", \"AFC6\",\n",
    "         \"VC1\", \"VC2\", \"VC3\", \"VC4\", \"NUMPRM12\", \"CARDGIFT\", \"TIMELAG\", \"AVGGIFT\", \"LASTGIFT\"]\n",
    "ix = 0\n",
    "ix_explanations = explanations3[ix]\n",
    "print(\"\\\\begin{{tabular}}{{{0}}}\".format(\"S\"*(1+len(ix_explanations))))\n",
    "print(\"\\\\toprule\")\n",
    "print('&'.join([\"{Explanations $\\\\rightarrow$}\"]+ [\"{{{0}}}\".format(i+ 1) for i in range(len(ix_explanations))]) + \"\\\\\\\\\")\n",
    "print(\"\\\\midrule\")\n",
    "features = np.unique(np.array([item for sublist in ix_explanations for item in sublist]))\n",
    "for f in features:\n",
    "    line = [\"{{{0}}}\".format(continuous_features[f].replace('_', '\\_'))]\n",
    "    for e in ix_explanations:\n",
    "        if f in e:\n",
    "            is_high = default[f] < sample_c[ix, f]\n",
    "            change_needed = \"{$\\\\uparrow$}\" if is_high else \"{$\\\\downarrow$}\"\n",
    "            line += [change_needed]\n",
    "        else:\n",
    "            line += [\"\"]\n",
    "    print(\"&\".join(line) + \"\\\\\\\\\")\n",
    "print(\"\\\\midrule\") \n",
    "print(\"\\\\multicolumn{7}{l}{$\\\\uparrow$ means feature is too large to grant credit.} \\\\\\\\\")    \n",
    "print(\"\\\\multicolumn{7}{l}{$\\\\downarrow$ means feature is too small to grant credit.} \\\\\\\\\")\n",
    "print(\"\\\\bottomrule\")    \n",
    "print(\"\\\\end{tabular}\")"
   ]
  },
  {
   "cell_type": "code",
   "execution_count": 80,
   "metadata": {},
   "outputs": [
    {
     "data": {
      "text/plain": [
       "200.0"
      ]
     },
     "execution_count": 80,
     "metadata": {},
     "output_type": "execute_result"
    }
   ],
   "source": [
    "train_d.max()"
   ]
  },
  {
   "cell_type": "code",
   "execution_count": 86,
   "metadata": {},
   "outputs": [],
   "source": [
    "short = [\"AGE\",  \"WEALTH2\",  \"HIT\", \"MALEMILI\",\n",
    "         \"MALEVET\", \"VIETVETS\", \"WWIIVETS\", \"LOCALGOV\", \"STATEGOV\", \"FEDGOV\",  \n",
    "         \"ETH7\", \"ETH10\", \"ETH11\", \"AFC1\", \"AFC2\", \"AFC3\", \"AFC4\", \"AFC5\", \"AFC6\",\n",
    "         \"VC1\", \"VC2\", \"VC3\", \"VC4\", \"NUMPRM12\", \"CARDGIFT\", \"TIMELAG\", \"AVGGIFT\", \"LASTGIFT\"]\n",
    "long =  [\"Age\",  \"Wealth Rating\",  \"Mail Order Response\", \"Males active in the Military\",\n",
    "         \"Males Veterans\", \"Vietnam Veterans\", \"World War two Veterans\", \"Employed by Local Goverment\", \"Employed by State Goverment\", \"Employed by Federal Goverment\",  \n",
    "         \"Percent Japanese\", \"Percent Korean\", \"Percent Vietnamese\", \"Percent Adults in Active Military Service\", \n",
    "                       \"Percent Males in Active Military Service\", \"Percent Females in Active Military Service\", \n",
    "                       \"Percent Adult Veterans Age 16+\", \"Percent Male Veterans Age 16+\", \"Percent Female Veterans Age 16+\",\n",
    "         \"Percent Vietnam Veterans Age 16+\", \"Percent Korean Veterans Age 16+\", \"Percent WW2 Veterans Age 16+\", \n",
    "                       \"Percent Veterans Serving After May 1975 Only\", \"Number of promotions received in the last 12 months\", \n",
    "                       \"Number of lifetime gifts to card promotions to date \", \"Number of months between first and second gift\", \n",
    "                       \"Average dollar amount of gifts to date\", \"Dollar amount of most recent gift\"]"
   ]
  },
  {
   "cell_type": "code",
   "execution_count": 87,
   "metadata": {},
   "outputs": [
    {
     "name": "stdout",
     "output_type": "stream",
     "text": [
      "Age (AGE), \n",
      "Wealth Rating (WEALTH2), \n",
      "Mail Order Response (HIT), \n",
      "Males active in the Military (MALEMILI), \n",
      "Males Veterans (MALEVET), \n",
      "Vietnam Veterans (VIETVETS), \n",
      "World War two Veterans (WWIIVETS), \n",
      "Employed by Local Goverment (LOCALGOV), \n",
      "Employed by State Goverment (STATEGOV), \n",
      "Employed by Federal Goverment (FEDGOV), \n",
      "Percent Japanese (ETH7), \n",
      "Percent Korean (ETH10), \n",
      "Percent Vietnamese (ETH11), \n",
      "Percent Adults in Active Military Service (AFC1), \n",
      "Percent Males in Active Military Service (AFC2), \n",
      "Percent Females in Active Military Service (AFC3), \n",
      "Percent Adult Veterans Age 16+ (AFC4), \n",
      "Percent Male Veterans Age 16+ (AFC5), \n",
      "Percent Female Veterans Age 16+ (AFC6), \n",
      "Percent Vietnam Veterans Age 16+ (VC1), \n",
      "Percent Korean Veterans Age 16+ (VC2), \n",
      "Percent WW2 Veterans Age 16+ (VC3), \n",
      "Percent Veterans Serving After May 1975 Only (VC4), \n",
      "Number of promotions received in the last 12 months (NUMPRM12), \n",
      "Number of lifetime gifts to card promotions to date  (CARDGIFT), \n",
      "Number of months between first and second gift (TIMELAG), \n",
      "Average dollar amount of gifts to date (AVGGIFT), \n",
      "Dollar amount of most recent gift (LASTGIFT), \n"
     ]
    }
   ],
   "source": [
    "# print latex code\n",
    "for i in range(len(short)):\n",
    "    print(long[i]+' ('+short[i]+')'+', ')"
   ]
  },
  {
   "cell_type": "code",
   "execution_count": null,
   "metadata": {},
   "outputs": [],
   "source": []
  }
 ],
 "metadata": {
  "kernelspec": {
   "display_name": "Python 3",
   "language": "python",
   "name": "python3"
  },
  "language_info": {
   "codemirror_mode": {
    "name": "ipython",
    "version": 3
   },
   "file_extension": ".py",
   "mimetype": "text/x-python",
   "name": "python",
   "nbconvert_exporter": "python",
   "pygments_lexer": "ipython3",
   "version": "3.6.3"
  }
 },
 "nbformat": 4,
 "nbformat_minor": 2
}
